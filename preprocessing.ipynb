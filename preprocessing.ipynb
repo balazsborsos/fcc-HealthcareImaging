{
 "cells": [
  {
   "cell_type": "markdown",
   "id": "b4147dd0",
   "metadata": {},
   "source": [
    "# Create groups of 64 slices"
   ]
  },
  {
   "cell_type": "code",
   "execution_count": null,
   "id": "4fa4f1bd",
   "metadata": {},
   "outputs": [],
   "source": [
    "from glob import glob\n",
    "import shutil\n",
    "import os\n",
    "import dicom2nifti"
   ]
  },
  {
   "cell_type": "code",
   "execution_count": null,
   "id": "5d0e5f81",
   "metadata": {},
   "outputs": [],
   "source": []
  },
  {
   "cell_type": "code",
   "execution_count": null,
   "id": "ecacc035",
   "metadata": {},
   "outputs": [],
   "source": [
    "in_path = \"D:/Downloads/Liver_data/dicom_files/labels\"\n",
    "out_path = \"D:/Downloads/Liver_data/dicom_groups/labels\""
   ]
  },
  {
   "cell_type": "code",
   "execution_count": null,
   "id": "8f01ffaa",
   "metadata": {},
   "outputs": [],
   "source": [
    "for patient in glob(in_path + '/*'):\n",
    "    patient_name = os.path.basename(os.path.normpath(patient))\n",
    "    n_folders = int(len(glob(patient + '/*'))/64)\n",
    "    \n",
    "    for i in range(n_folders):\n",
    "        output_path_name = os.path.join(out_path,patient_name + '_' + str(i))\n",
    "        print(output_path_name)\n",
    "        os.mkdir(output_path_name)\n",
    "        for i, file in enumerate(glob(patient + '/*')):\n",
    "            if i == 64:\n",
    "                break\n",
    "            shutil.move(file, output_path_name)\n",
    "            \n",
    "    "
   ]
  },
  {
   "cell_type": "markdown",
   "id": "52be9437",
   "metadata": {},
   "source": [
    "# Convert DICOMs into Nifti files"
   ]
  },
  {
   "cell_type": "code",
   "execution_count": null,
   "id": "2ec9a7ea",
   "metadata": {},
   "outputs": [],
   "source": [
    "in_path_imgs = \"D:/Downloads/Liver_data/dicom_groups/images/*\"\n",
    "in_path_labels = \"D:/Downloads/Liver_data/dicom_groups/labels/*\"\n",
    "\n",
    "out_path_imgs = \"D:/Downloads/Liver_data/nifti_files/images\"\n",
    "out_path_labels = \"D:/Downloads/Liver_data/nifti_files/labels\"\n",
    "\n",
    "list_images = glob(in_path_imgs)\n",
    "list_labels = glob(in_path_labels)"
   ]
  },
  {
   "cell_type": "code",
   "execution_count": null,
   "id": "6a4ea83c",
   "metadata": {},
   "outputs": [],
   "source": [
    "for patient in list_images: # or list_labels for labes\n",
    "    patient_name = os.path.basename(os.path.normpath(patient))\n",
    "    dicom2nifti.dicom_series_to_nifti(patient, os.path.join(out_path_imgs, patient_name + '.nii.gz'))"
   ]
  }
 ],
 "metadata": {
  "kernelspec": {
   "display_name": "Python 3 (ipykernel)",
   "language": "python",
   "name": "python3"
  },
  "language_info": {
   "codemirror_mode": {
    "name": "ipython",
    "version": 3
   },
   "file_extension": ".py",
   "mimetype": "text/x-python",
   "name": "python",
   "nbconvert_exporter": "python",
   "pygments_lexer": "ipython3",
   "version": "3.7.11"
  }
 },
 "nbformat": 4,
 "nbformat_minor": 5
}
